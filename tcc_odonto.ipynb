{
  "nbformat": 4,
  "nbformat_minor": 0,
  "metadata": {
    "colab": {
      "name": "tcc_odonto.ipynb",
      "provenance": [],
      "collapsed_sections": [],
      "authorship_tag": "ABX9TyOaMUBKPKnFPTBHxA9egP1g"
    },
    "kernelspec": {
      "name": "python3",
      "display_name": "Python 3"
    },
    "language_info": {
      "name": "python"
    }
  },
  "cells": [
    {
      "cell_type": "code",
      "metadata": {
        "colab": {
          "base_uri": "https://localhost:8080/"
        },
        "id": "yJnvOnDlQzgB",
        "outputId": "59172de4-d7c8-4346-83b1-6ea296cdd5bb"
      },
      "source": [
        "#instalando pacote necessário\n",
        "!pip install factor_analyzer==0.3.2"
      ],
      "execution_count": null,
      "outputs": [
        {
          "output_type": "stream",
          "name": "stdout",
          "text": [
            "Collecting factor_analyzer==0.3.2\n",
            "  Downloading factor_analyzer-0.3.2.tar.gz (40 kB)\n",
            "\u001b[?25l\r\u001b[K     |████████▏                       | 10 kB 18.8 MB/s eta 0:00:01\r\u001b[K     |████████████████▍               | 20 kB 24.4 MB/s eta 0:00:01\r\u001b[K     |████████████████████████▌       | 30 kB 28.3 MB/s eta 0:00:01\r\u001b[K     |████████████████████████████████| 40 kB 3.4 MB/s \n",
            "\u001b[?25hRequirement already satisfied: pandas in /usr/local/lib/python3.7/dist-packages (from factor_analyzer==0.3.2) (1.1.5)\n",
            "Requirement already satisfied: scipy in /usr/local/lib/python3.7/dist-packages (from factor_analyzer==0.3.2) (1.4.1)\n",
            "Requirement already satisfied: numpy in /usr/local/lib/python3.7/dist-packages (from factor_analyzer==0.3.2) (1.19.5)\n",
            "Requirement already satisfied: scikit-learn in /usr/local/lib/python3.7/dist-packages (from factor_analyzer==0.3.2) (0.22.2.post1)\n",
            "Requirement already satisfied: python-dateutil>=2.7.3 in /usr/local/lib/python3.7/dist-packages (from pandas->factor_analyzer==0.3.2) (2.8.2)\n",
            "Requirement already satisfied: pytz>=2017.2 in /usr/local/lib/python3.7/dist-packages (from pandas->factor_analyzer==0.3.2) (2018.9)\n",
            "Requirement already satisfied: six>=1.5 in /usr/local/lib/python3.7/dist-packages (from python-dateutil>=2.7.3->pandas->factor_analyzer==0.3.2) (1.15.0)\n",
            "Requirement already satisfied: joblib>=0.11 in /usr/local/lib/python3.7/dist-packages (from scikit-learn->factor_analyzer==0.3.2) (1.0.1)\n",
            "Building wheels for collected packages: factor-analyzer\n",
            "  Building wheel for factor-analyzer (setup.py) ... \u001b[?25l\u001b[?25hdone\n",
            "  Created wheel for factor-analyzer: filename=factor_analyzer-0.3.2-py3-none-any.whl size=40395 sha256=6b4bf1f11006a125a8f0d499e5c4dc62e363044d4546543bfc7aba2fb6cd7769\n",
            "  Stored in directory: /root/.cache/pip/wheels/8d/9e/4c/fd4cb92cecf157b13702cc0907e5c56ddc48e5388134dc9f1a\n",
            "Successfully built factor-analyzer\n",
            "Installing collected packages: factor-analyzer\n",
            "Successfully installed factor-analyzer-0.3.2\n"
          ]
        }
      ]
    },
    {
      "cell_type": "code",
      "metadata": {
        "id": "Lq2lSz_UOA7G"
      },
      "source": [
        "import pandas as pd\n",
        "import numpy as np\n",
        "\n",
        "import matplotlib.pyplot as plt\n",
        "import seaborn as sns\n",
        "\n",
        "from sklearn.decomposition import FactorAnalysis\n",
        "from factor_analyzer import FactorAnalyzer\n",
        "\n",
        "from scipy import stats\n",
        "from scipy.stats import chisquare\n",
        "\n",
        "import warnings\n",
        "warnings.filterwarnings(\"ignore\")\n",
        "%matplotlib inline"
      ],
      "execution_count": null,
      "outputs": []
    },
    {
      "cell_type": "code",
      "metadata": {
        "colab": {
          "base_uri": "https://localhost:8080/",
          "height": 204
        },
        "id": "2TS2CVmoOV6h",
        "outputId": "0f27b557-d280-4cd4-c5a1-6eb2f5b2e6a4"
      },
      "source": [
        "df = pd.read_excel('dataset.xlsx')\n",
        "#df = pd.read_csv('dataset.csv', sep=';')\n",
        "df.columns=['q1','q2','q3','q4','q5','q6','q7']\n",
        "df.head()"
      ],
      "execution_count": null,
      "outputs": [
        {
          "output_type": "execute_result",
          "data": {
            "text/html": [
              "<div>\n",
              "<style scoped>\n",
              "    .dataframe tbody tr th:only-of-type {\n",
              "        vertical-align: middle;\n",
              "    }\n",
              "\n",
              "    .dataframe tbody tr th {\n",
              "        vertical-align: top;\n",
              "    }\n",
              "\n",
              "    .dataframe thead th {\n",
              "        text-align: right;\n",
              "    }\n",
              "</style>\n",
              "<table border=\"1\" class=\"dataframe\">\n",
              "  <thead>\n",
              "    <tr style=\"text-align: right;\">\n",
              "      <th></th>\n",
              "      <th>q1</th>\n",
              "      <th>q2</th>\n",
              "      <th>q3</th>\n",
              "      <th>q4</th>\n",
              "      <th>q5</th>\n",
              "      <th>q6</th>\n",
              "      <th>q7</th>\n",
              "    </tr>\n",
              "  </thead>\n",
              "  <tbody>\n",
              "    <tr>\n",
              "      <th>0</th>\n",
              "      <td>3</td>\n",
              "      <td>4</td>\n",
              "      <td>5</td>\n",
              "      <td>5</td>\n",
              "      <td>5</td>\n",
              "      <td>4</td>\n",
              "      <td>4</td>\n",
              "    </tr>\n",
              "    <tr>\n",
              "      <th>1</th>\n",
              "      <td>4</td>\n",
              "      <td>3</td>\n",
              "      <td>4</td>\n",
              "      <td>4</td>\n",
              "      <td>4</td>\n",
              "      <td>4</td>\n",
              "      <td>4</td>\n",
              "    </tr>\n",
              "    <tr>\n",
              "      <th>2</th>\n",
              "      <td>4</td>\n",
              "      <td>5</td>\n",
              "      <td>4</td>\n",
              "      <td>4</td>\n",
              "      <td>5</td>\n",
              "      <td>4</td>\n",
              "      <td>4</td>\n",
              "    </tr>\n",
              "    <tr>\n",
              "      <th>3</th>\n",
              "      <td>1</td>\n",
              "      <td>1</td>\n",
              "      <td>2</td>\n",
              "      <td>2</td>\n",
              "      <td>1</td>\n",
              "      <td>1</td>\n",
              "      <td>1</td>\n",
              "    </tr>\n",
              "    <tr>\n",
              "      <th>4</th>\n",
              "      <td>2</td>\n",
              "      <td>4</td>\n",
              "      <td>3</td>\n",
              "      <td>5</td>\n",
              "      <td>5</td>\n",
              "      <td>4</td>\n",
              "      <td>2</td>\n",
              "    </tr>\n",
              "  </tbody>\n",
              "</table>\n",
              "</div>"
            ],
            "text/plain": [
              "   q1  q2  q3  q4  q5  q6  q7\n",
              "0   3   4   5   5   5   4   4\n",
              "1   4   3   4   4   4   4   4\n",
              "2   4   5   4   4   5   4   4\n",
              "3   1   1   2   2   1   1   1\n",
              "4   2   4   3   5   5   4   2"
            ]
          },
          "metadata": {},
          "execution_count": 3
        }
      ]
    },
    {
      "cell_type": "code",
      "metadata": {
        "colab": {
          "base_uri": "https://localhost:8080/"
        },
        "id": "o8KJ0GwIPyyy",
        "outputId": "cde0e8ce-ef4d-4fe9-f275-9c980e118606"
      },
      "source": [
        "df.info()"
      ],
      "execution_count": null,
      "outputs": [
        {
          "output_type": "stream",
          "name": "stdout",
          "text": [
            "<class 'pandas.core.frame.DataFrame'>\n",
            "RangeIndex: 70 entries, 0 to 69\n",
            "Data columns (total 7 columns):\n",
            " #   Column  Non-Null Count  Dtype\n",
            "---  ------  --------------  -----\n",
            " 0   q1      70 non-null     int64\n",
            " 1   q2      70 non-null     int64\n",
            " 2   q3      70 non-null     int64\n",
            " 3   q4      70 non-null     int64\n",
            " 4   q5      70 non-null     int64\n",
            " 5   q6      70 non-null     int64\n",
            " 6   q7      70 non-null     int64\n",
            "dtypes: int64(7)\n",
            "memory usage: 4.0 KB\n"
          ]
        }
      ]
    },
    {
      "cell_type": "markdown",
      "metadata": {
        "id": "FGjICgrzt4so"
      },
      "source": [
        "# Análise Fatorial"
      ]
    },
    {
      "cell_type": "markdown",
      "metadata": {
        "id": "Fkgr7A6Hf-5p"
      },
      "source": [
        "Um dos pre-requisitos para escolha da quantidade de fatores é que seu autovalores não sejam muito menores que 1, conforme visto abaixo, deve ser escohido 2 fatores."
      ]
    },
    {
      "cell_type": "code",
      "metadata": {
        "colab": {
          "base_uri": "https://localhost:8080/"
        },
        "id": "jcKKVLAbc5t3",
        "outputId": "933a9188-fccc-46f2-acbe-a9924e5c35f2"
      },
      "source": [
        "# Create factor analysis object and perform factor analysis\n",
        "\n",
        "fa = FactorAnalyzer(n_factors=7, rotation='varimax')\n",
        "fa.fit(df)\n",
        "\n",
        "# Checando autovalores\n",
        "ev, v = fa.get_eigenvalues()\n",
        "ev"
      ],
      "execution_count": null,
      "outputs": [
        {
          "output_type": "execute_result",
          "data": {
            "text/plain": [
              "array([3.24938455, 1.12777272, 0.77386273, 0.63412028, 0.50052917,\n",
              "       0.38391569, 0.33041486])"
            ]
          },
          "metadata": {},
          "execution_count": 5
        }
      ]
    },
    {
      "cell_type": "markdown",
      "metadata": {
        "id": "sMzZeCZDgMIj"
      },
      "source": [
        "confirmando agora de maneira visual, quanto mais horizontal a linha, menos é recomendado a utilização de tal como fator."
      ]
    },
    {
      "cell_type": "code",
      "metadata": {
        "colab": {
          "base_uri": "https://localhost:8080/",
          "height": 500
        },
        "id": "DVXhmqCEfMdM",
        "outputId": "93b33d5f-5c56-4e2e-e0cb-8a3a8ae9b64f"
      },
      "source": [
        "#análise paralela\n",
        "# Criando scree plot \n",
        "\n",
        "plt.figure(figsize=(14,8))\n",
        "plt.scatter(range(1,df.shape[1]+1),ev)\n",
        "plt.plot(range(1,df.shape[1]+1),ev)\n",
        "plt.xlabel('Fatores', fontsize=13)\n",
        "plt.ylabel('Autovalores', fontsize=13)\n",
        "\n",
        "plt.show()"
      ],
      "execution_count": null,
      "outputs": [
        {
          "output_type": "display_data",
          "data": {
            "image/png": "[encoded data removed]",
            "text/plain": [
              "<Figure size 1008x576 with 1 Axes>"
            ]
          },
          "metadata": {
            "needs_background": "light"
          }
        }
      ]
    },
    {
      "cell_type": "markdown",
      "metadata": {
        "id": "1e-pdd3mgbEE"
      },
      "source": [
        "## Análise fatorial com fatores com rotação VARIMAX"
      ]
    },
    {
      "cell_type": "code",
      "metadata": {
        "colab": {
          "base_uri": "https://localhost:8080/"
        },
        "id": "S4Svlajffum1",
        "outputId": "8381c273-b770-4d5b-f14c-e762ad25568b"
      },
      "source": [
        "fa = FactorAnalyzer(n_factors=2, rotation='varimax')\n",
        "fa.fit(df)"
      ],
      "execution_count": null,
      "outputs": [
        {
          "output_type": "execute_result",
          "data": {
            "text/plain": [
              "FactorAnalyzer(bounds=(0.005, 1), impute='median', is_corr_matrix=False,\n",
              "               method='minres', n_factors=2, rotation='varimax',\n",
              "               rotation_kwargs={}, use_smc=True)"
            ]
          },
          "metadata": {},
          "execution_count": 7
        }
      ]
    },
    {
      "cell_type": "markdown",
      "metadata": {
        "id": "eEr0_4jHgtj3"
      },
      "source": [
        "## Matriz L de cargas fatoriais estimadas"
      ]
    },
    {
      "cell_type": "code",
      "metadata": {
        "colab": {
          "base_uri": "https://localhost:8080/"
        },
        "id": "UNLlKDFzgqPw",
        "outputId": "9c147494-ecc8-4954-bbbb-cd28274b211a"
      },
      "source": [
        "#coeficientes do modelo de análise fatorial\n",
        "L = fa.loadings_\n",
        "np.round(L,2)"
      ],
      "execution_count": null,
      "outputs": [
        {
          "output_type": "execute_result",
          "data": {
            "text/plain": [
              "array([[0.11, 0.57],\n",
              "       [0.57, 0.09],\n",
              "       [0.32, 0.67],\n",
              "       [0.49, 0.57],\n",
              "       [0.77, 0.35],\n",
              "       [0.68, 0.26],\n",
              "       [0.13, 0.52]])"
            ]
          },
          "metadata": {},
          "execution_count": 8
        }
      ]
    },
    {
      "cell_type": "code",
      "metadata": {
        "colab": {
          "base_uri": "https://localhost:8080/",
          "height": 266
        },
        "id": "mAchLTuqgz4G",
        "outputId": "960213fe-cb06-49f7-f54c-2f91baf1c06b"
      },
      "source": [
        "#transformando em dataframe para manipulação\n",
        "L = pd.DataFrame(fa.loadings_)\n",
        "np.round(L,2)\n",
        "L.index = df.columns\n",
        "L.columns = ['FA1','FA2',]\n",
        "L"
      ],
      "execution_count": null,
      "outputs": [
        {
          "output_type": "execute_result",
          "data": {
            "text/html": [
              "<div>\n",
              "<style scoped>\n",
              "    .dataframe tbody tr th:only-of-type {\n",
              "        vertical-align: middle;\n",
              "    }\n",
              "\n",
              "    .dataframe tbody tr th {\n",
              "        vertical-align: top;\n",
              "    }\n",
              "\n",
              "    .dataframe thead th {\n",
              "        text-align: right;\n",
              "    }\n",
              "</style>\n",
              "<table border=\"1\" class=\"dataframe\">\n",
              "  <thead>\n",
              "    <tr style=\"text-align: right;\">\n",
              "      <th></th>\n",
              "      <th>FA1</th>\n",
              "      <th>FA2</th>\n",
              "    </tr>\n",
              "  </thead>\n",
              "  <tbody>\n",
              "    <tr>\n",
              "      <th>q1</th>\n",
              "      <td>0.108152</td>\n",
              "      <td>0.567404</td>\n",
              "    </tr>\n",
              "    <tr>\n",
              "      <th>q2</th>\n",
              "      <td>0.571643</td>\n",
              "      <td>0.086565</td>\n",
              "    </tr>\n",
              "    <tr>\n",
              "      <th>q3</th>\n",
              "      <td>0.316175</td>\n",
              "      <td>0.667611</td>\n",
              "    </tr>\n",
              "    <tr>\n",
              "      <th>q4</th>\n",
              "      <td>0.487841</td>\n",
              "      <td>0.569778</td>\n",
              "    </tr>\n",
              "    <tr>\n",
              "      <th>q5</th>\n",
              "      <td>0.770695</td>\n",
              "      <td>0.347540</td>\n",
              "    </tr>\n",
              "    <tr>\n",
              "      <th>q6</th>\n",
              "      <td>0.682143</td>\n",
              "      <td>0.262474</td>\n",
              "    </tr>\n",
              "    <tr>\n",
              "      <th>q7</th>\n",
              "      <td>0.132634</td>\n",
              "      <td>0.519298</td>\n",
              "    </tr>\n",
              "  </tbody>\n",
              "</table>\n",
              "</div>"
            ],
            "text/plain": [
              "         FA1       FA2\n",
              "q1  0.108152  0.567404\n",
              "q2  0.571643  0.086565\n",
              "q3  0.316175  0.667611\n",
              "q4  0.487841  0.569778\n",
              "q5  0.770695  0.347540\n",
              "q6  0.682143  0.262474\n",
              "q7  0.132634  0.519298"
            ]
          },
          "metadata": {},
          "execution_count": 9
        }
      ]
    },
    {
      "cell_type": "code",
      "metadata": {
        "colab": {
          "base_uri": "https://localhost:8080/",
          "height": 263
        },
        "id": "myLUnOSmiAOJ",
        "outputId": "53b5c01c-4f48-4349-95b1-efa5bc7632d7"
      },
      "source": [
        "#organinzando por ordem crescente \n",
        "L.sort_values(by=['FA1'],ascending=False)\n"
      ],
      "execution_count": null,
      "outputs": [
        {
          "output_type": "execute_result",
          "data": {
            "text/html": [
              "<div>\n",
              "<style scoped>\n",
              "    .dataframe tbody tr th:only-of-type {\n",
              "        vertical-align: middle;\n",
              "    }\n",
              "\n",
              "    .dataframe tbody tr th {\n",
              "        vertical-align: top;\n",
              "    }\n",
              "\n",
              "    .dataframe thead th {\n",
              "        text-align: right;\n",
              "    }\n",
              "</style>\n",
              "<table border=\"1\" class=\"dataframe\">\n",
              "  <thead>\n",
              "    <tr style=\"text-align: right;\">\n",
              "      <th></th>\n",
              "      <th>FA1</th>\n",
              "      <th>FA2</th>\n",
              "    </tr>\n",
              "  </thead>\n",
              "  <tbody>\n",
              "    <tr>\n",
              "      <th>q5</th>\n",
              "      <td>0.770695</td>\n",
              "      <td>0.347540</td>\n",
              "    </tr>\n",
              "    <tr>\n",
              "      <th>q6</th>\n",
              "      <td>0.682143</td>\n",
              "      <td>0.262474</td>\n",
              "    </tr>\n",
              "    <tr>\n",
              "      <th>q2</th>\n",
              "      <td>0.571643</td>\n",
              "      <td>0.086565</td>\n",
              "    </tr>\n",
              "    <tr>\n",
              "      <th>q4</th>\n",
              "      <td>0.487841</td>\n",
              "      <td>0.569778</td>\n",
              "    </tr>\n",
              "    <tr>\n",
              "      <th>q3</th>\n",
              "      <td>0.316175</td>\n",
              "      <td>0.667611</td>\n",
              "    </tr>\n",
              "    <tr>\n",
              "      <th>q7</th>\n",
              "      <td>0.132634</td>\n",
              "      <td>0.519298</td>\n",
              "    </tr>\n",
              "    <tr>\n",
              "      <th>q1</th>\n",
              "      <td>0.108152</td>\n",
              "      <td>0.567404</td>\n",
              "    </tr>\n",
              "  </tbody>\n",
              "</table>\n",
              "</div>"
            ],
            "text/plain": [
              "         FA1       FA2\n",
              "q5  0.770695  0.347540\n",
              "q6  0.682143  0.262474\n",
              "q2  0.571643  0.086565\n",
              "q4  0.487841  0.569778\n",
              "q3  0.316175  0.667611\n",
              "q7  0.132634  0.519298\n",
              "q1  0.108152  0.567404"
            ]
          },
          "metadata": {},
          "execution_count": 17
        }
      ]
    },
    {
      "cell_type": "markdown",
      "metadata": {
        "id": "2FCHIXIEipj7"
      },
      "source": [
        "Analisando a tabela acima, pode-se concluir que a questão 5 é o atributo que tem maior relevância no FA1, seguido da questão 6 e questão 2. Inclusive será mudado o nome do FA1 para vis_like pois as questões 5 e 6 remetem a perguntas da importância das visualizações e curtidas no instagram. Isto é feito devido a futuras manipulações, como os scores dos fatores."
      ]
    },
    {
      "cell_type": "code",
      "metadata": {
        "colab": {
          "base_uri": "https://localhost:8080/",
          "height": 263
        },
        "id": "A0_BT9CdjqW7",
        "outputId": "3d568dc6-5dad-452c-a649-b5ac2ddb55b7"
      },
      "source": [
        "L.sort_values(by='FA2',ascending=False)\n"
      ],
      "execution_count": null,
      "outputs": [
        {
          "output_type": "execute_result",
          "data": {
            "text/html": [
              "<div>\n",
              "<style scoped>\n",
              "    .dataframe tbody tr th:only-of-type {\n",
              "        vertical-align: middle;\n",
              "    }\n",
              "\n",
              "    .dataframe tbody tr th {\n",
              "        vertical-align: top;\n",
              "    }\n",
              "\n",
              "    .dataframe thead th {\n",
              "        text-align: right;\n",
              "    }\n",
              "</style>\n",
              "<table border=\"1\" class=\"dataframe\">\n",
              "  <thead>\n",
              "    <tr style=\"text-align: right;\">\n",
              "      <th></th>\n",
              "      <th>FA1</th>\n",
              "      <th>FA2</th>\n",
              "    </tr>\n",
              "  </thead>\n",
              "  <tbody>\n",
              "    <tr>\n",
              "      <th>q3</th>\n",
              "      <td>0.316175</td>\n",
              "      <td>0.667611</td>\n",
              "    </tr>\n",
              "    <tr>\n",
              "      <th>q4</th>\n",
              "      <td>0.487841</td>\n",
              "      <td>0.569778</td>\n",
              "    </tr>\n",
              "    <tr>\n",
              "      <th>q1</th>\n",
              "      <td>0.108152</td>\n",
              "      <td>0.567404</td>\n",
              "    </tr>\n",
              "    <tr>\n",
              "      <th>q7</th>\n",
              "      <td>0.132634</td>\n",
              "      <td>0.519298</td>\n",
              "    </tr>\n",
              "    <tr>\n",
              "      <th>q5</th>\n",
              "      <td>0.770695</td>\n",
              "      <td>0.347540</td>\n",
              "    </tr>\n",
              "    <tr>\n",
              "      <th>q6</th>\n",
              "      <td>0.682143</td>\n",
              "      <td>0.262474</td>\n",
              "    </tr>\n",
              "    <tr>\n",
              "      <th>q2</th>\n",
              "      <td>0.571643</td>\n",
              "      <td>0.086565</td>\n",
              "    </tr>\n",
              "  </tbody>\n",
              "</table>\n",
              "</div>"
            ],
            "text/plain": [
              "         FA1       FA2\n",
              "q3  0.316175  0.667611\n",
              "q4  0.487841  0.569778\n",
              "q1  0.108152  0.567404\n",
              "q7  0.132634  0.519298\n",
              "q5  0.770695  0.347540\n",
              "q6  0.682143  0.262474\n",
              "q2  0.571643  0.086565"
            ]
          },
          "metadata": {},
          "execution_count": 18
        }
      ]
    },
    {
      "cell_type": "markdown",
      "metadata": {
        "id": "8PjZejlzkmZ5"
      },
      "source": [
        "FA2 = postfeed_story"
      ]
    },
    {
      "cell_type": "markdown",
      "metadata": {
        "id": "fnlNEU0QldRm"
      },
      "source": [
        "## Variância explicada por cada fator"
      ]
    },
    {
      "cell_type": "code",
      "metadata": {
        "colab": {
          "base_uri": "https://localhost:8080/"
        },
        "id": "wskUiCllkR6d",
        "outputId": "1864c7cb-049a-4dea-83b3-ff96aa08969d"
      },
      "source": [
        "#variâncias\n",
        "fa.get_factor_variance()"
      ],
      "execution_count": null,
      "outputs": [
        {
          "output_type": "execute_result",
          "data": {
            "text/plain": [
              "(array([1.75330848, 1.55913889]),\n",
              " array([0.25047264, 0.22273413]),\n",
              " array([0.25047264, 0.47320677]))"
            ]
          },
          "metadata": {},
          "execution_count": 19
        }
      ]
    },
    {
      "cell_type": "code",
      "metadata": {
        "colab": {
          "base_uri": "https://localhost:8080/"
        },
        "id": "KFqCJwKXlhUs",
        "outputId": "19a74bf7-ba50-4892-cd27-77a92df2b9e8"
      },
      "source": [
        "np.sum(fa.get_factor_variance())\n"
      ],
      "execution_count": null,
      "outputs": [
        {
          "output_type": "execute_result",
          "data": {
            "text/plain": [
              "4.509333535588882"
            ]
          },
          "metadata": {},
          "execution_count": 20
        }
      ]
    },
    {
      "cell_type": "code",
      "metadata": {
        "colab": {
          "base_uri": "https://localhost:8080/"
        },
        "id": "pyjQx74hlmtF",
        "outputId": "4f148439-c415-479b-bdf2-c2c7d8f5d3e7"
      },
      "source": [
        "fa.get_factor_variance()/np.sum(fa.get_factor_variance())"
      ],
      "execution_count": null,
      "outputs": [
        {
          "output_type": "execute_result",
          "data": {
            "text/plain": [
              "array([[0.38881765, 0.34575816],\n",
              "       [0.05554538, 0.04939402],\n",
              "       [0.05554538, 0.1049394 ]])"
            ]
          },
          "metadata": {},
          "execution_count": 21
        }
      ]
    },
    {
      "cell_type": "markdown",
      "metadata": {
        "id": "up06cmq7mB-6"
      },
      "source": [
        "## Variância percentual explicada por cada fator"
      ]
    },
    {
      "cell_type": "code",
      "metadata": {
        "colab": {
          "base_uri": "https://localhost:8080/"
        },
        "id": "ciS2aUJ8lorl",
        "outputId": "62ea4fb9-c9bc-43f3-abf3-56156e36c1c1"
      },
      "source": [
        "np.round(fa.get_factor_variance()/np.sum(fa.get_factor_variance()),2)\n"
      ],
      "execution_count": null,
      "outputs": [
        {
          "output_type": "execute_result",
          "data": {
            "text/plain": [
              "array([[0.39, 0.35],\n",
              "       [0.06, 0.05],\n",
              "       [0.06, 0.1 ]])"
            ]
          },
          "metadata": {},
          "execution_count": 22
        }
      ]
    },
    {
      "cell_type": "markdown",
      "metadata": {
        "id": "zGjeg1AAmKgU"
      },
      "source": [
        "O primeiro fator explica 39% da variável total dos dados e o segundo 35%. Nota-se que depois do segundo os valores explicados são pequenos."
      ]
    },
    {
      "cell_type": "markdown",
      "metadata": {
        "id": "47GNg53UnwDw"
      },
      "source": [
        "Até agora foi resumido 7 atributos em 2 fatores  e abaixo mostrarei a utilidade dos fatores"
      ]
    },
    {
      "cell_type": "code",
      "metadata": {
        "colab": {
          "base_uri": "https://localhost:8080/",
          "height": 202
        },
        "id": "FRK19Q3smGMt",
        "outputId": "587dcf14-933a-4084-8238-edc7baafd1e4"
      },
      "source": [
        "#adicionando os scores dos fatores ao dataset original\n",
        "df[['Fator1','Fator2']] = np.array(fa.fit_transform(df))[:, 0:2]\n",
        "df.head()"
      ],
      "execution_count": null,
      "outputs": [
        {
          "output_type": "execute_result",
          "data": {
            "text/html": [
              "<div>\n",
              "<style scoped>\n",
              "    .dataframe tbody tr th:only-of-type {\n",
              "        vertical-align: middle;\n",
              "    }\n",
              "\n",
              "    .dataframe tbody tr th {\n",
              "        vertical-align: top;\n",
              "    }\n",
              "\n",
              "    .dataframe thead th {\n",
              "        text-align: right;\n",
              "    }\n",
              "</style>\n",
              "<table border=\"1\" class=\"dataframe\">\n",
              "  <thead>\n",
              "    <tr style=\"text-align: right;\">\n",
              "      <th></th>\n",
              "      <th>q1</th>\n",
              "      <th>q2</th>\n",
              "      <th>q3</th>\n",
              "      <th>q4</th>\n",
              "      <th>q5</th>\n",
              "      <th>q6</th>\n",
              "      <th>q7</th>\n",
              "      <th>Fator1</th>\n",
              "      <th>Fator2</th>\n",
              "    </tr>\n",
              "  </thead>\n",
              "  <tbody>\n",
              "    <tr>\n",
              "      <th>0</th>\n",
              "      <td>3</td>\n",
              "      <td>4</td>\n",
              "      <td>5</td>\n",
              "      <td>5</td>\n",
              "      <td>5</td>\n",
              "      <td>4</td>\n",
              "      <td>4</td>\n",
              "      <td>0.833701</td>\n",
              "      <td>1.219954</td>\n",
              "    </tr>\n",
              "    <tr>\n",
              "      <th>1</th>\n",
              "      <td>4</td>\n",
              "      <td>3</td>\n",
              "      <td>4</td>\n",
              "      <td>4</td>\n",
              "      <td>4</td>\n",
              "      <td>4</td>\n",
              "      <td>4</td>\n",
              "      <td>0.020347</td>\n",
              "      <td>0.990355</td>\n",
              "    </tr>\n",
              "    <tr>\n",
              "      <th>2</th>\n",
              "      <td>4</td>\n",
              "      <td>5</td>\n",
              "      <td>4</td>\n",
              "      <td>4</td>\n",
              "      <td>5</td>\n",
              "      <td>4</td>\n",
              "      <td>4</td>\n",
              "      <td>0.898786</td>\n",
              "      <td>0.761240</td>\n",
              "    </tr>\n",
              "    <tr>\n",
              "      <th>3</th>\n",
              "      <td>1</td>\n",
              "      <td>1</td>\n",
              "      <td>2</td>\n",
              "      <td>2</td>\n",
              "      <td>1</td>\n",
              "      <td>1</td>\n",
              "      <td>1</td>\n",
              "      <td>-2.188873</td>\n",
              "      <td>-1.294638</td>\n",
              "    </tr>\n",
              "    <tr>\n",
              "      <th>4</th>\n",
              "      <td>2</td>\n",
              "      <td>4</td>\n",
              "      <td>3</td>\n",
              "      <td>5</td>\n",
              "      <td>5</td>\n",
              "      <td>4</td>\n",
              "      <td>2</td>\n",
              "      <td>1.280709</td>\n",
              "      <td>-0.324868</td>\n",
              "    </tr>\n",
              "  </tbody>\n",
              "</table>\n",
              "</div>"
            ],
            "text/plain": [
              "   q1  q2  q3  q4  q5  q6  q7    Fator1    Fator2\n",
              "0   3   4   5   5   5   4   4  0.833701  1.219954\n",
              "1   4   3   4   4   4   4   4  0.020347  0.990355\n",
              "2   4   5   4   4   5   4   4  0.898786  0.761240\n",
              "3   1   1   2   2   1   1   1 -2.188873 -1.294638\n",
              "4   2   4   3   5   5   4   2  1.280709 -0.324868"
            ]
          },
          "metadata": {},
          "execution_count": 23
        }
      ]
    },
    {
      "cell_type": "code",
      "metadata": {
        "colab": {
          "base_uri": "https://localhost:8080/",
          "height": 355
        },
        "id": "6QnTJlQonBoh",
        "outputId": "22389c29-4946-4c10-ac41-4259fbceb8c1"
      },
      "source": [
        "df.sort_values(by='Fator1',ascending=False).head(10)\n"
      ],
      "execution_count": null,
      "outputs": [
        {
          "output_type": "execute_result",
          "data": {
            "text/html": [
              "<div>\n",
              "<style scoped>\n",
              "    .dataframe tbody tr th:only-of-type {\n",
              "        vertical-align: middle;\n",
              "    }\n",
              "\n",
              "    .dataframe tbody tr th {\n",
              "        vertical-align: top;\n",
              "    }\n",
              "\n",
              "    .dataframe thead th {\n",
              "        text-align: right;\n",
              "    }\n",
              "</style>\n",
              "<table border=\"1\" class=\"dataframe\">\n",
              "  <thead>\n",
              "    <tr style=\"text-align: right;\">\n",
              "      <th></th>\n",
              "      <th>q1</th>\n",
              "      <th>q2</th>\n",
              "      <th>q3</th>\n",
              "      <th>q4</th>\n",
              "      <th>q5</th>\n",
              "      <th>q6</th>\n",
              "      <th>q7</th>\n",
              "      <th>Fator1</th>\n",
              "      <th>Fator2</th>\n",
              "    </tr>\n",
              "  </thead>\n",
              "  <tbody>\n",
              "    <tr>\n",
              "      <th>12</th>\n",
              "      <td>2</td>\n",
              "      <td>4</td>\n",
              "      <td>2</td>\n",
              "      <td>3</td>\n",
              "      <td>5</td>\n",
              "      <td>5</td>\n",
              "      <td>2</td>\n",
              "      <td>1.481441</td>\n",
              "      <td>-1.272480</td>\n",
              "    </tr>\n",
              "    <tr>\n",
              "      <th>31</th>\n",
              "      <td>3</td>\n",
              "      <td>4</td>\n",
              "      <td>5</td>\n",
              "      <td>5</td>\n",
              "      <td>5</td>\n",
              "      <td>5</td>\n",
              "      <td>1</td>\n",
              "      <td>1.430135</td>\n",
              "      <td>0.403336</td>\n",
              "    </tr>\n",
              "    <tr>\n",
              "      <th>38</th>\n",
              "      <td>3</td>\n",
              "      <td>4</td>\n",
              "      <td>4</td>\n",
              "      <td>5</td>\n",
              "      <td>5</td>\n",
              "      <td>5</td>\n",
              "      <td>3</td>\n",
              "      <td>1.314461</td>\n",
              "      <td>0.503060</td>\n",
              "    </tr>\n",
              "    <tr>\n",
              "      <th>6</th>\n",
              "      <td>2</td>\n",
              "      <td>4</td>\n",
              "      <td>4</td>\n",
              "      <td>5</td>\n",
              "      <td>5</td>\n",
              "      <td>4</td>\n",
              "      <td>1</td>\n",
              "      <td>1.301960</td>\n",
              "      <td>-0.179126</td>\n",
              "    </tr>\n",
              "    <tr>\n",
              "      <th>17</th>\n",
              "      <td>2</td>\n",
              "      <td>4</td>\n",
              "      <td>3</td>\n",
              "      <td>5</td>\n",
              "      <td>5</td>\n",
              "      <td>4</td>\n",
              "      <td>2</td>\n",
              "      <td>1.280709</td>\n",
              "      <td>-0.324868</td>\n",
              "    </tr>\n",
              "    <tr>\n",
              "      <th>4</th>\n",
              "      <td>2</td>\n",
              "      <td>4</td>\n",
              "      <td>3</td>\n",
              "      <td>5</td>\n",
              "      <td>5</td>\n",
              "      <td>4</td>\n",
              "      <td>2</td>\n",
              "      <td>1.280709</td>\n",
              "      <td>-0.324868</td>\n",
              "    </tr>\n",
              "    <tr>\n",
              "      <th>7</th>\n",
              "      <td>2</td>\n",
              "      <td>4</td>\n",
              "      <td>3</td>\n",
              "      <td>5</td>\n",
              "      <td>5</td>\n",
              "      <td>4</td>\n",
              "      <td>2</td>\n",
              "      <td>1.280709</td>\n",
              "      <td>-0.324868</td>\n",
              "    </tr>\n",
              "    <tr>\n",
              "      <th>27</th>\n",
              "      <td>5</td>\n",
              "      <td>5</td>\n",
              "      <td>5</td>\n",
              "      <td>5</td>\n",
              "      <td>5</td>\n",
              "      <td>5</td>\n",
              "      <td>3</td>\n",
              "      <td>1.214187</td>\n",
              "      <td>1.336329</td>\n",
              "    </tr>\n",
              "    <tr>\n",
              "      <th>43</th>\n",
              "      <td>3</td>\n",
              "      <td>4</td>\n",
              "      <td>3</td>\n",
              "      <td>4</td>\n",
              "      <td>5</td>\n",
              "      <td>4</td>\n",
              "      <td>3</td>\n",
              "      <td>0.981666</td>\n",
              "      <td>-0.046016</td>\n",
              "    </tr>\n",
              "    <tr>\n",
              "      <th>63</th>\n",
              "      <td>2</td>\n",
              "      <td>4</td>\n",
              "      <td>3</td>\n",
              "      <td>3</td>\n",
              "      <td>4</td>\n",
              "      <td>5</td>\n",
              "      <td>2</td>\n",
              "      <td>0.922895</td>\n",
              "      <td>-0.853947</td>\n",
              "    </tr>\n",
              "  </tbody>\n",
              "</table>\n",
              "</div>"
            ],
            "text/plain": [
              "    q1  q2  q3  q4  q5  q6  q7    Fator1    Fator2\n",
              "12   2   4   2   3   5   5   2  1.481441 -1.272480\n",
              "31   3   4   5   5   5   5   1  1.430135  0.403336\n",
              "38   3   4   4   5   5   5   3  1.314461  0.503060\n",
              "6    2   4   4   5   5   4   1  1.301960 -0.179126\n",
              "17   2   4   3   5   5   4   2  1.280709 -0.324868\n",
              "4    2   4   3   5   5   4   2  1.280709 -0.324868\n",
              "7    2   4   3   5   5   4   2  1.280709 -0.324868\n",
              "27   5   5   5   5   5   5   3  1.214187  1.336329\n",
              "43   3   4   3   4   5   4   3  0.981666 -0.046016\n",
              "63   2   4   3   3   4   5   2  0.922895 -0.853947"
            ]
          },
          "metadata": {},
          "execution_count": 24
        }
      ]
    },
    {
      "cell_type": "markdown",
      "metadata": {
        "id": "j8d_Sph9pJI1"
      },
      "source": [
        "Quanto maior o score do Fator1, mais importante é considerado as visualizações e curtidas para o entrevistado."
      ]
    },
    {
      "cell_type": "code",
      "metadata": {
        "colab": {
          "base_uri": "https://localhost:8080/",
          "height": 355
        },
        "id": "BCRozOQooakC",
        "outputId": "30741678-8b2b-48b4-9496-ca9055e72c16"
      },
      "source": [
        "df.sort_values(by='Fator2',ascending=False).head(10)\n"
      ],
      "execution_count": null,
      "outputs": [
        {
          "output_type": "execute_result",
          "data": {
            "text/html": [
              "<div>\n",
              "<style scoped>\n",
              "    .dataframe tbody tr th:only-of-type {\n",
              "        vertical-align: middle;\n",
              "    }\n",
              "\n",
              "    .dataframe tbody tr th {\n",
              "        vertical-align: top;\n",
              "    }\n",
              "\n",
              "    .dataframe thead th {\n",
              "        text-align: right;\n",
              "    }\n",
              "</style>\n",
              "<table border=\"1\" class=\"dataframe\">\n",
              "  <thead>\n",
              "    <tr style=\"text-align: right;\">\n",
              "      <th></th>\n",
              "      <th>q1</th>\n",
              "      <th>q2</th>\n",
              "      <th>q3</th>\n",
              "      <th>q4</th>\n",
              "      <th>q5</th>\n",
              "      <th>q6</th>\n",
              "      <th>q7</th>\n",
              "      <th>Fator1</th>\n",
              "      <th>Fator2</th>\n",
              "    </tr>\n",
              "  </thead>\n",
              "  <tbody>\n",
              "    <tr>\n",
              "      <th>18</th>\n",
              "      <td>5</td>\n",
              "      <td>4</td>\n",
              "      <td>5</td>\n",
              "      <td>5</td>\n",
              "      <td>4</td>\n",
              "      <td>3</td>\n",
              "      <td>4</td>\n",
              "      <td>-0.188472</td>\n",
              "      <td>1.870459</td>\n",
              "    </tr>\n",
              "    <tr>\n",
              "      <th>16</th>\n",
              "      <td>5</td>\n",
              "      <td>4</td>\n",
              "      <td>5</td>\n",
              "      <td>5</td>\n",
              "      <td>4</td>\n",
              "      <td>3</td>\n",
              "      <td>4</td>\n",
              "      <td>-0.188472</td>\n",
              "      <td>1.870459</td>\n",
              "    </tr>\n",
              "    <tr>\n",
              "      <th>66</th>\n",
              "      <td>4</td>\n",
              "      <td>2</td>\n",
              "      <td>5</td>\n",
              "      <td>5</td>\n",
              "      <td>5</td>\n",
              "      <td>3</td>\n",
              "      <td>3</td>\n",
              "      <td>0.110077</td>\n",
              "      <td>1.527978</td>\n",
              "    </tr>\n",
              "    <tr>\n",
              "      <th>27</th>\n",
              "      <td>5</td>\n",
              "      <td>5</td>\n",
              "      <td>5</td>\n",
              "      <td>5</td>\n",
              "      <td>5</td>\n",
              "      <td>5</td>\n",
              "      <td>3</td>\n",
              "      <td>1.214187</td>\n",
              "      <td>1.336329</td>\n",
              "    </tr>\n",
              "    <tr>\n",
              "      <th>24</th>\n",
              "      <td>4</td>\n",
              "      <td>4</td>\n",
              "      <td>4</td>\n",
              "      <td>5</td>\n",
              "      <td>4</td>\n",
              "      <td>2</td>\n",
              "      <td>4</td>\n",
              "      <td>-0.316647</td>\n",
              "      <td>1.287996</td>\n",
              "    </tr>\n",
              "    <tr>\n",
              "      <th>0</th>\n",
              "      <td>3</td>\n",
              "      <td>4</td>\n",
              "      <td>5</td>\n",
              "      <td>5</td>\n",
              "      <td>5</td>\n",
              "      <td>4</td>\n",
              "      <td>4</td>\n",
              "      <td>0.833701</td>\n",
              "      <td>1.219954</td>\n",
              "    </tr>\n",
              "    <tr>\n",
              "      <th>28</th>\n",
              "      <td>3</td>\n",
              "      <td>3</td>\n",
              "      <td>5</td>\n",
              "      <td>5</td>\n",
              "      <td>3</td>\n",
              "      <td>3</td>\n",
              "      <td>3</td>\n",
              "      <td>-0.552321</td>\n",
              "      <td>1.210258</td>\n",
              "    </tr>\n",
              "    <tr>\n",
              "      <th>1</th>\n",
              "      <td>4</td>\n",
              "      <td>3</td>\n",
              "      <td>4</td>\n",
              "      <td>4</td>\n",
              "      <td>4</td>\n",
              "      <td>4</td>\n",
              "      <td>4</td>\n",
              "      <td>0.020347</td>\n",
              "      <td>0.990355</td>\n",
              "    </tr>\n",
              "    <tr>\n",
              "      <th>15</th>\n",
              "      <td>4</td>\n",
              "      <td>3</td>\n",
              "      <td>4</td>\n",
              "      <td>5</td>\n",
              "      <td>4</td>\n",
              "      <td>4</td>\n",
              "      <td>3</td>\n",
              "      <td>0.207573</td>\n",
              "      <td>0.982981</td>\n",
              "    </tr>\n",
              "    <tr>\n",
              "      <th>13</th>\n",
              "      <td>4</td>\n",
              "      <td>3</td>\n",
              "      <td>4</td>\n",
              "      <td>5</td>\n",
              "      <td>4</td>\n",
              "      <td>4</td>\n",
              "      <td>3</td>\n",
              "      <td>0.207573</td>\n",
              "      <td>0.982981</td>\n",
              "    </tr>\n",
              "  </tbody>\n",
              "</table>\n",
              "</div>"
            ],
            "text/plain": [
              "    q1  q2  q3  q4  q5  q6  q7    Fator1    Fator2\n",
              "18   5   4   5   5   4   3   4 -0.188472  1.870459\n",
              "16   5   4   5   5   4   3   4 -0.188472  1.870459\n",
              "66   4   2   5   5   5   3   3  0.110077  1.527978\n",
              "27   5   5   5   5   5   5   3  1.214187  1.336329\n",
              "24   4   4   4   5   4   2   4 -0.316647  1.287996\n",
              "0    3   4   5   5   5   4   4  0.833701  1.219954\n",
              "28   3   3   5   5   3   3   3 -0.552321  1.210258\n",
              "1    4   3   4   4   4   4   4  0.020347  0.990355\n",
              "15   4   3   4   5   4   4   3  0.207573  0.982981\n",
              "13   4   3   4   5   4   4   3  0.207573  0.982981"
            ]
          },
          "metadata": {},
          "execution_count": 25
        }
      ]
    },
    {
      "cell_type": "markdown",
      "metadata": {
        "id": "EhImEk1kqgg6"
      },
      "source": [
        "Quanto maior o score do Fator2, mais importante é considerado as publicações no feed e no story para o entrevistado."
      ]
    },
    {
      "cell_type": "code",
      "metadata": {
        "colab": {
          "base_uri": "https://localhost:8080/",
          "height": 442
        },
        "id": "Y_1gDhq2P7yw",
        "outputId": "caa73b85-8cc5-4bbb-b08e-4b01b18368ae"
      },
      "source": [
        "plt.figure(figsize = (12, 7))\n",
        "\n",
        "plt.plot(df['Fator1'], label = 'Fator 1')\n",
        "plt.plot(df['Fator2'], label = 'Fator 2')\n",
        "\n",
        "plt.legend(loc='upper left', prop = {'size': 12})\n",
        "plt.xlabel('Amostras');\n",
        "plt.ylabel('Score');\n",
        "\n"
      ],
      "execution_count": null,
      "outputs": [
        {
          "output_type": "display_data",
          "data": {
            "image/png": "[encoded data removed]",
            "text/plain": [
              "<Figure size 864x504 with 1 Axes>"
            ]
          },
          "metadata": {
            "needs_background": "light"
          }
        }
      ]
    },
    {
      "cell_type": "markdown",
      "metadata": {
        "id": "BZp8qYhot9DC"
      },
      "source": [
        "# Teste de confiabilidade"
      ]
    },
    {
      "cell_type": "markdown",
      "metadata": {
        "id": "1RjJ2voiuCAn"
      },
      "source": [
        "Motivos de se usar o alfa de cronbach para testar a confiabilidade do questionário:\n",
        "\n",
        "I. O coeficiente alfa de Cronbach fornece uma medida razoável de confiabilidade em um único\n",
        "teste. Dessa forma, não são necessárias repetições ou aplicações paralelas de um teste para a\n",
        "estimativa da consistência do mesmo.\n",
        "\n",
        "II. A fórmula geral do coeficiente alfa de Cronbach permite sua aplicação a questionários de\n",
        "múltipla-escolha de escalas dicotômicas ou escalas atitudinais de variáveis categóricas politômicas.\n",
        "\n",
        "III. O coeficiente alfa de Cronbach pode ser facilmente calculado por princípios estatísticos\n",
        "básicos."
      ]
    },
    {
      "cell_type": "code",
      "metadata": {
        "id": "_mjdTcSRqekC"
      },
      "source": [
        "#definindo uma função para fazer o alfa de cronbach\n",
        "\n",
        "def cronbach_alpha(df):\n",
        "  df_corr = df.corr() #matriz de correlação do df\n",
        "  N = df.shape[1] #número de registros do df\n",
        "  rs = np.array([])\n",
        "  for i, col in enumerate(df_corr.columns):\n",
        "    sum_ = df_corr[col][i+1:].values\n",
        "    rs = np.append(sum_, rs)\n",
        "  mean_r = np.mean(rs)\n",
        "\n",
        "#usando a fórmula\n",
        "  cronbach_alpha = (N * mean_r) / (1 + (N - 1) * mean_r)\n",
        "  return cronbach_alpha \n"
      ],
      "execution_count": null,
      "outputs": []
    },
    {
      "cell_type": "code",
      "metadata": {
        "colab": {
          "base_uri": "https://localhost:8080/"
        },
        "id": "jYTtWx7bvpzm",
        "outputId": "1fc80e75-794f-4bf4-f647-12c4fda40d79"
      },
      "source": [
        "cronbach_alpha(df)"
      ],
      "execution_count": null,
      "outputs": [
        {
          "output_type": "execute_result",
          "data": {
            "text/plain": [
              "0.868459153227247"
            ]
          },
          "metadata": {},
          "execution_count": 27
        }
      ]
    },
    {
      "cell_type": "markdown",
      "metadata": {
        "id": "cokJI6cewGtB"
      },
      "source": [
        "internal consistency = good"
      ]
    },
    {
      "cell_type": "markdown",
      "metadata": {
        "id": "scH_vApuwikF"
      },
      "source": [
        "# Teste de proporção (Qui-Quadrado)"
      ]
    },
    {
      "cell_type": "markdown",
      "metadata": {
        "id": "t1fHZlfNwx2w"
      },
      "source": [
        "na questão 1, \"Quanto você acredita conhecer sobre o Instagram como ferramenta de marketing?\", vamos formular uma hipótese, por exemplo, que acredita-se que 50% das pessoas iriam responder \"muito\" ou \"moderado\" e aí faremos o teste, confrontando o percentual q respondeu na amostra"
      ]
    },
    {
      "cell_type": "markdown",
      "metadata": {
        "id": "1potvFpR14lD"
      },
      "source": [
        "H0: Os itens da questão 1 têm a mesma chance de ocorrência\n",
        "\n",
        "H1: Os itens da questão 1 têm chance de ocorrência diferente"
      ]
    },
    {
      "cell_type": "code",
      "metadata": {
        "id": "d9l63eUsScfJ"
      },
      "source": [
        ""
      ],
      "execution_count": null,
      "outputs": []
    }
  ]
}